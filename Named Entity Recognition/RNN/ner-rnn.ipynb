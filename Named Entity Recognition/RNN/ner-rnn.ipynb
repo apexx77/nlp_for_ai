{
 "cells": [
  {
   "cell_type": "markdown",
   "metadata": {},
   "source": [
    "# Named Entity Recognition using RNN"
   ]
  },
  {
   "cell_type": "markdown",
   "metadata": {},
   "source": [
    "## Import Required Libraries"
   ]
  },
  {
   "cell_type": "code",
   "execution_count": 1,
   "metadata": {
    "id": "0YlBAoRG7P_D"
   },
   "outputs": [
    {
     "name": "stderr",
     "output_type": "stream",
     "text": [
      "Using TensorFlow backend.\n"
     ]
    }
   ],
   "source": [
    "import warnings\n",
    "warnings.filterwarnings(\"ignore\")\n",
    "\n",
    "import numpy as np\n",
    "\n",
    "from matplotlib import pyplot as plt\n",
    "\n",
    "from nltk.corpus import brown\n",
    "from nltk.corpus import treebank\n",
    "import nltk\n",
    "import seaborn as sns\n",
    "\n",
    "from gensim.models import KeyedVectors\n",
    "\n",
    "from keras.preprocessing.sequence import pad_sequences\n",
    "from keras.utils.np_utils import to_categorical\n",
    "from keras.models import Sequential\n",
    "from keras.layers import Embedding\n",
    "from keras.layers import Dense, Input\n",
    "from keras.layers import TimeDistributed\n",
    "from keras.layers import LSTM, GRU, Bidirectional, SimpleRNN, RNN\n",
    "from keras.models import Model\n",
    "from keras.preprocessing.text import Tokenizer\n",
    "\n",
    "from sklearn.model_selection import train_test_split\n",
    "from sklearn.utils import shuffle"
   ]
  },
  {
   "cell_type": "markdown",
   "metadata": {},
   "source": [
    "## Dataset"
   ]
  },
  {
   "cell_type": "code",
   "execution_count": 2,
   "metadata": {
    "id": "Szoops5X7hf3"
   },
   "outputs": [],
   "source": [
    "file1 = open(\"eng.train\", \"r\")\n",
    "X = [] # contains the words\n",
    "Y = [] # contains corresponding tags\n",
    "x = []\n",
    "y = []\n",
    "for i in file1:\n",
    "  s = i.split(\" \")\n",
    "  if s[0]!='.' and len(s)==4:\n",
    "    x.append(s[0])\n",
    "    y.append(s[3][:-1])\n",
    "  else:\n",
    "    X.append(x)\n",
    "    Y.append(y)\n",
    "    x = []\n",
    "    y = []\n",
    "#print(X)\n",
    "#print(Y)"
   ]
  },
  {
   "cell_type": "code",
   "execution_count": 3,
   "metadata": {
    "id": "_9AmKZmN-M9n"
   },
   "outputs": [],
   "source": [
    "num_words = len(set([word.lower() for sentence in X for word in sentence]))\n",
    "num_tags   = len(set([word.lower() for sentence in Y for word in sentence]))"
   ]
  },
  {
   "cell_type": "code",
   "execution_count": 4,
   "metadata": {
    "colab": {
     "base_uri": "https://localhost:8080/"
    },
    "id": "vYce51Oa-Ree",
    "outputId": "99a60321-cf6b-4a0f-d588-75ebac337d02"
   },
   "outputs": [
    {
     "name": "stdout",
     "output_type": "stream",
     "text": [
      "Total number of tagged sentences: 22360\n",
      "Vocabulary size: 21009\n",
      "Total number of tags: 8\n"
     ]
    }
   ],
   "source": [
    "print(\"Total number of tagged sentences: {}\".format(len(X)))\n",
    "print(\"Vocabulary size: {}\".format(num_words))\n",
    "print(\"Total number of tags: {}\".format(num_tags))\n"
   ]
  },
  {
   "cell_type": "markdown",
   "metadata": {},
   "source": [
    "## Encoding"
   ]
  },
  {
   "cell_type": "code",
   "execution_count": 7,
   "metadata": {
    "id": "7NI7ngWF-gj5"
   },
   "outputs": [],
   "source": [
    "# encode X\n",
    "\n",
    "word_tokenizer = Tokenizer()                      # instantiate tokeniser\n",
    "word_tokenizer.fit_on_texts(X)                    # fit tokeniser on data\n",
    "X_encoded = word_tokenizer.texts_to_sequences(X)  # use the tokeniser to encode input sequence"
   ]
  },
  {
   "cell_type": "code",
   "execution_count": 8,
   "metadata": {
    "id": "uw81s_xm-jeF"
   },
   "outputs": [],
   "source": [
    "# encode Y\n",
    "\n",
    "tag_tokenizer = Tokenizer()\n",
    "tag_tokenizer.fit_on_texts(Y)\n",
    "Y_encoded = tag_tokenizer.texts_to_sequences(Y)"
   ]
  },
  {
   "cell_type": "code",
   "execution_count": 10,
   "metadata": {
    "colab": {
     "base_uri": "https://localhost:8080/"
    },
    "id": "uYgF-C1S--41",
    "outputId": "6173dbd1-73cf-450d-ee20-99cae49a4152"
   },
   "outputs": [
    {
     "name": "stdout",
     "output_type": "stream",
     "text": [
      "0 sentences have disparate input-output lengths.\n"
     ]
    }
   ],
   "source": [
    "# make sure that each sequence of input and output is same length\n",
    "\n",
    "different_length = [1 if len(input) != len(output) else 0 for input, output in zip(X_encoded, Y_encoded)]\n",
    "print(\"{} sentences have disparate input-output lengths.\".format(sum(different_length)))"
   ]
  },
  {
   "cell_type": "code",
   "execution_count": 11,
   "metadata": {
    "colab": {
     "base_uri": "https://localhost:8080/"
    },
    "id": "vlinzR4D_D9O",
    "outputId": "4273b4c2-af6b-40ed-923a-5717515636ef"
   },
   "outputs": [
    {
     "name": "stdout",
     "output_type": "stream",
     "text": [
      "Length of longest sentence: 113\n"
     ]
    }
   ],
   "source": [
    "# check length of longest sentence\n",
    "lengths = [len(seq) for seq in X_encoded]\n",
    "print(\"Length of longest sentence: {}\".format(max(lengths)))"
   ]
  },
  {
   "cell_type": "markdown",
   "metadata": {},
   "source": [
    "## Padding"
   ]
  },
  {
   "cell_type": "code",
   "execution_count": 12,
   "metadata": {
    "id": "HvvJjjAC_MR9"
   },
   "outputs": [],
   "source": [
    "MAX_SEQ_LENGTH = 100  # sequences greater than 100 in length will be truncated\n",
    "\n",
    "X_padded = pad_sequences(X_encoded, maxlen=MAX_SEQ_LENGTH, padding=\"pre\", truncating=\"post\")\n",
    "Y_padded = pad_sequences(Y_encoded, maxlen=MAX_SEQ_LENGTH, padding=\"pre\", truncating=\"post\")\n"
   ]
  },
  {
   "cell_type": "code",
   "execution_count": 14,
   "metadata": {
    "id": "bg3WVdKT_ThG"
   },
   "outputs": [],
   "source": [
    "# assign padded sequences to X and Y\n",
    "X, Y = X_padded, Y_padded"
   ]
  },
  {
   "cell_type": "markdown",
   "metadata": {},
   "source": [
    "## Word2Vec Model"
   ]
  },
  {
   "cell_type": "code",
   "execution_count": 16,
   "metadata": {
    "id": "2JZxBC8sCKlP"
   },
   "outputs": [],
   "source": [
    "# word2vec\n",
    "\n",
    "path = './GoogleNews-vectors-negative300.bin'\n",
    "\n",
    "\n",
    "# load word2vec using the following function present in the gensim library\n",
    "word2vec = KeyedVectors.load_word2vec_format(path, binary=True)\n"
   ]
  },
  {
   "cell_type": "code",
   "execution_count": 17,
   "metadata": {
    "id": "s-ohn5fPDWxS"
   },
   "outputs": [],
   "source": [
    "#assign word vectors from word2vec model\n",
    "\n",
    "EMBEDDING_SIZE  = 300  # each word in word2vec model is represented using a 300 dimensional vector\n",
    "VOCABULARY_SIZE = len(word_tokenizer.word_index) + 1\n",
    "\n",
    "# create an empty embedding matix\n",
    "embedding_weights = np.zeros((VOCABULARY_SIZE, EMBEDDING_SIZE))\n",
    "\n",
    "# create a word to index dictionary mapping\n",
    "word2id = word_tokenizer.word_index\n",
    "\n",
    "# copy vectors from word2vec model to the words present in corpus\n",
    "for word, index in word2id.items():\n",
    "    try:\n",
    "        embedding_weights[index, :] = word2vec[word]\n",
    "    except KeyError:\n",
    "        pass"
   ]
  },
  {
   "cell_type": "code",
   "execution_count": 18,
   "metadata": {
    "colab": {
     "base_uri": "https://localhost:8080/"
    },
    "id": "2RY5cYD9DbEb",
    "outputId": "af507f97-4e1a-4c11-d740-50eb98a4eeab"
   },
   "outputs": [
    {
     "name": "stdout",
     "output_type": "stream",
     "text": [
      "Embeddings shape: (21010, 300)\n"
     ]
    }
   ],
   "source": [
    "# check embedding dimension\n",
    "print(\"Embeddings shape: {}\".format(embedding_weights.shape))"
   ]
  },
  {
   "cell_type": "code",
   "execution_count": 19,
   "metadata": {
    "colab": {
     "base_uri": "https://localhost:8080/"
    },
    "id": "-BdwOh4_DhvR",
    "outputId": "366f49a8-bc05-4f5e-fc14-feee324a7947"
   },
   "outputs": [
    {
     "data": {
      "text/plain": [
       "array([ 0.18847656, -0.0703125 , -0.16113281,  0.03857422, -0.04956055,\n",
       "       -0.23046875, -0.15722656, -0.16992188,  0.17089844, -0.01208496,\n",
       "       -0.16015625, -0.02770996,  0.05932617,  0.00491333, -0.13769531,\n",
       "        0.39257812,  0.06201172,  0.30859375,  0.12890625, -0.07373047,\n",
       "       -0.07128906,  0.26953125,  0.22167969,  0.04150391, -0.01361084,\n",
       "       -0.1953125 ,  0.06884766, -0.04541016,  0.36328125, -0.05761719,\n",
       "       -0.16308594, -0.45507812, -0.16699219, -0.09179688,  0.15234375,\n",
       "       -0.08984375,  0.33789062,  0.01574707, -0.08789062,  0.3984375 ,\n",
       "       -0.03112793, -0.15234375,  0.30859375,  0.23242188,  0.08984375,\n",
       "        0.0050354 ,  0.25585938,  0.24316406, -0.27734375,  0.171875  ,\n",
       "        0.23144531,  0.23242188, -0.12597656,  0.03613281,  0.2890625 ,\n",
       "        0.00469971, -0.02441406,  0.31835938,  0.19726562, -0.14257812,\n",
       "       -0.01867676,  0.01495361, -0.37695312, -0.06298828,  0.09814453,\n",
       "       -0.04736328, -0.02087402,  0.01757812,  0.06982422,  0.01092529,\n",
       "       -0.20605469, -0.09521484,  0.15917969, -0.03588867,  0.02539062,\n",
       "       -0.16503906,  0.01916504,  0.24316406,  0.07128906, -0.20507812,\n",
       "       -0.07958984, -0.02307129, -0.12988281, -0.00162506, -0.06933594,\n",
       "        0.28710938, -0.22070312,  0.39257812,  0.09570312, -0.24414062,\n",
       "        0.1328125 , -0.06835938,  0.15332031, -0.2109375 , -0.20605469,\n",
       "       -0.22363281,  0.13476562, -0.04443359,  0.359375  , -0.0072937 ,\n",
       "        0.03173828,  0.00518799,  0.06738281,  0.12451172, -0.078125  ,\n",
       "       -0.08886719, -0.32421875,  0.13964844,  0.15527344, -0.07324219,\n",
       "        0.01794434, -0.16796875,  0.02124023,  0.234375  ,  0.09619141,\n",
       "        0.07470703,  0.23925781, -0.0859375 ,  0.07324219,  0.19628906,\n",
       "       -0.1328125 ,  0.02319336, -0.01928711,  0.01293945,  0.03076172,\n",
       "        0.0534668 , -0.23925781, -0.21875   , -0.3515625 , -0.13671875,\n",
       "        0.10449219, -0.08007812,  0.10253906,  0.07275391,  0.13183594,\n",
       "       -0.00534058, -0.02587891, -0.10546875, -0.02490234,  0.06347656,\n",
       "        0.0390625 , -0.26953125, -0.20605469,  0.15625   ,  0.01708984,\n",
       "       -0.17480469,  0.14355469,  0.33203125,  0.13378906,  0.22363281,\n",
       "        0.00982666, -0.24511719,  0.07373047,  0.14257812,  0.02429199,\n",
       "        0.07226562, -0.10693359, -0.36914062, -0.05981445, -0.10058594,\n",
       "       -0.04785156, -0.11914062,  0.21777344, -0.33007812,  0.13867188,\n",
       "        0.1796875 ,  0.00427246, -0.11767578,  0.24121094, -0.07226562,\n",
       "       -0.15332031,  0.09277344,  0.09521484, -0.09228516,  0.04418945,\n",
       "       -0.08691406,  0.00872803,  0.04174805, -0.10302734, -0.16796875,\n",
       "       -0.23535156, -0.16601562,  0.06079102, -0.36914062,  0.09960938,\n",
       "       -0.125     , -0.16601562,  0.38476562,  0.2421875 ,  0.21582031,\n",
       "       -0.05419922,  0.10546875, -0.10400391,  0.07177734, -0.12304688,\n",
       "        0.04418945, -0.0625    ,  0.02929688,  0.08496094, -0.2265625 ,\n",
       "       -0.4375    , -0.04760742, -0.03100586, -0.16308594, -0.09033203,\n",
       "       -0.05102539,  0.20507812, -0.00165558, -0.13476562, -0.08837891,\n",
       "       -0.0612793 , -0.06103516, -0.01818848,  0.37695312,  0.09667969,\n",
       "        0.26171875,  0.02844238,  0.17382812,  0.06591797,  0.3046875 ,\n",
       "       -0.08007812, -0.07177734, -0.06445312,  0.00738525, -0.08789062,\n",
       "       -0.17382812,  0.16699219, -0.09326172, -0.19140625,  0.1328125 ,\n",
       "       -0.18554688, -0.16699219,  0.08496094, -0.02197266, -0.02941895,\n",
       "        0.08203125,  0.08398438, -0.07177734,  0.19921875, -0.12158203,\n",
       "        0.00360107,  0.29296875, -0.36328125,  0.2421875 ,  0.11132812,\n",
       "       -0.29296875,  0.04492188, -0.08251953,  0.11328125, -0.10791016,\n",
       "       -0.22949219, -0.10595703, -0.15625   ,  0.11523438, -0.11865234,\n",
       "       -0.25      ,  0.28125   , -0.02148438, -0.08007812, -0.23144531,\n",
       "        0.01721191, -0.0088501 ,  0.30273438,  0.18261719, -0.11767578,\n",
       "        0.34570312, -0.23535156, -0.17675781, -0.11376953,  0.04663086,\n",
       "       -0.07617188,  0.078125  ,  0.06054688, -0.07421875, -0.17578125,\n",
       "       -0.11865234,  0.140625  , -0.11474609, -0.02416992,  0.05297852,\n",
       "        0.11816406, -0.15722656,  0.42773438, -0.22363281, -0.06298828,\n",
       "       -0.33203125, -0.09277344, -0.13183594,  0.25390625,  0.21386719,\n",
       "       -0.25      , -0.17675781,  0.09814453, -0.125     ,  0.11083984,\n",
       "        0.21191406, -0.10058594,  0.07958984,  0.24121094, -0.15527344])"
      ]
     },
     "execution_count": 19,
     "metadata": {},
     "output_type": "execute_result"
    }
   ],
   "source": [
    "# let's look at an embedding of a word\n",
    "embedding_weights[word_tokenizer.word_index['economy']]\n"
   ]
  },
  {
   "cell_type": "code",
   "execution_count": 20,
   "metadata": {
    "id": "Bul6DtKIDqlT"
   },
   "outputs": [],
   "source": [
    "# use Keras' to_categorical function to one-hot encode Y\n",
    "Y = to_categorical(Y)"
   ]
  },
  {
   "cell_type": "code",
   "execution_count": 21,
   "metadata": {
    "colab": {
     "base_uri": "https://localhost:8080/"
    },
    "id": "rAe-D14iDzDr",
    "outputId": "a9f17ab4-602e-4291-f630-5344fc6d744a"
   },
   "outputs": [
    {
     "name": "stdout",
     "output_type": "stream",
     "text": [
      "(22360, 100, 9)\n"
     ]
    }
   ],
   "source": [
    "# print Y of the first output sequqnce\n",
    "print(Y.shape)"
   ]
  },
  {
   "cell_type": "markdown",
   "metadata": {},
   "source": [
    "## Splitting Dataset"
   ]
  },
  {
   "cell_type": "code",
   "execution_count": 22,
   "metadata": {
    "id": "7PeXpHpgD246"
   },
   "outputs": [],
   "source": [
    "# split entire data into training and testing sets\n",
    "TEST_SIZE = 0.15\n",
    "X_train, X_test, Y_train, Y_test = train_test_split(X, Y, test_size=TEST_SIZE, random_state=4)"
   ]
  },
  {
   "cell_type": "code",
   "execution_count": 23,
   "metadata": {
    "id": "RMRHsYnIEIwm"
   },
   "outputs": [],
   "source": [
    "# split training data into training and validation sets\n",
    "VALID_SIZE = 0.15\n",
    "X_train, X_validation, Y_train, Y_validation = train_test_split(X_train, Y_train, test_size=VALID_SIZE, random_state=4)\n"
   ]
  },
  {
   "cell_type": "code",
   "execution_count": 24,
   "metadata": {
    "id": "mjlyGel6EW-i"
   },
   "outputs": [],
   "source": [
    "# total number of tags\n",
    "NUM_CLASSES = Y.shape[2]"
   ]
  },
  {
   "cell_type": "markdown",
   "metadata": {},
   "source": [
    "## RNN Model"
   ]
  },
  {
   "cell_type": "code",
   "execution_count": 29,
   "metadata": {
    "id": "xprqa4WWE5kp"
   },
   "outputs": [],
   "source": [
    "# create architecture\n",
    "\n",
    "rnn_model = Sequential()\n",
    "\n",
    "# create embedding layer - usually the first layer in text problems\n",
    "rnn_model.add(Embedding(input_dim     =  VOCABULARY_SIZE,         # vocabulary size - number of unique words in data\n",
    "                        output_dim    =  EMBEDDING_SIZE,          # length of vector with which each word is represented\n",
    "                        input_length  =  MAX_SEQ_LENGTH,          # length of input sequence\n",
    "                        trainable     =  True                     # True - update the embeddings while training\n",
    "))\n",
    "\n",
    "# add an RNN layer which contains 64 RNN cells\n",
    "rnn_model.add(SimpleRNN(64, \n",
    "              return_sequences=True  # True - return whole sequence; False - return single output of the end of the sequence\n",
    "))\n",
    "\n",
    "# add time distributed (output at each sequence) layer\n",
    "rnn_model.add(TimeDistributed(Dense(NUM_CLASSES, activation='softmax')))"
   ]
  },
  {
   "cell_type": "markdown",
   "metadata": {},
   "source": [
    "## Compiling the Model"
   ]
  },
  {
   "cell_type": "code",
   "execution_count": 30,
   "metadata": {
    "id": "yvQUQpB5E_aN"
   },
   "outputs": [],
   "source": [
    "rnn_model.compile(loss      =  'categorical_crossentropy',\n",
    "                  optimizer =  'adam',\n",
    "                  metrics   =  ['acc'])"
   ]
  },
  {
   "cell_type": "markdown",
   "metadata": {},
   "source": [
    "## Summary of the Model"
   ]
  },
  {
   "cell_type": "code",
   "execution_count": 31,
   "metadata": {
    "colab": {
     "base_uri": "https://localhost:8080/"
    },
    "id": "dbCuUnkhFK8s",
    "outputId": "6203c25e-081a-4a83-e5a0-20c799945d3b"
   },
   "outputs": [
    {
     "name": "stdout",
     "output_type": "stream",
     "text": [
      "Model: \"sequential_2\"\n",
      "_________________________________________________________________\n",
      "Layer (type)                 Output Shape              Param #   \n",
      "=================================================================\n",
      "embedding_2 (Embedding)      (None, 100, 300)          6303000   \n",
      "_________________________________________________________________\n",
      "simple_rnn_2 (SimpleRNN)     (None, 100, 64)           23360     \n",
      "_________________________________________________________________\n",
      "time_distributed_2 (TimeDist (None, 100, 9)            585       \n",
      "=================================================================\n",
      "Total params: 6,326,945\n",
      "Trainable params: 6,326,945\n",
      "Non-trainable params: 0\n",
      "_________________________________________________________________\n"
     ]
    }
   ],
   "source": [
    "# check summary of the model\n",
    "rnn_model.summary()"
   ]
  },
  {
   "cell_type": "markdown",
   "metadata": {},
   "source": [
    "## Training the Model"
   ]
  },
  {
   "cell_type": "code",
   "execution_count": 32,
   "metadata": {
    "colab": {
     "base_uri": "https://localhost:8080/"
    },
    "id": "kw3F89ajFRx7",
    "outputId": "625a0b20-df09-47c4-f392-9d2219262dc9"
   },
   "outputs": [
    {
     "name": "stdout",
     "output_type": "stream",
     "text": [
      "Train on 16155 samples, validate on 2851 samples\n",
      "Epoch 1/10\n",
      "16155/16155 [==============================] - 27s 2ms/step - loss: 0.2633 - acc: 0.9454 - val_loss: 0.0701 - val_acc: 0.9827\n",
      "Epoch 2/10\n",
      "16155/16155 [==============================] - 26s 2ms/step - loss: 0.0482 - acc: 0.9867 - val_loss: 0.0370 - val_acc: 0.9896\n",
      "Epoch 3/10\n",
      "16155/16155 [==============================] - 26s 2ms/step - loss: 0.0257 - acc: 0.9934 - val_loss: 0.0249 - val_acc: 0.9935\n",
      "Epoch 4/10\n",
      "16155/16155 [==============================] - 26s 2ms/step - loss: 0.0159 - acc: 0.9965 - val_loss: 0.0194 - val_acc: 0.9949\n",
      "Epoch 5/10\n",
      "16155/16155 [==============================] - 26s 2ms/step - loss: 0.0108 - acc: 0.9978 - val_loss: 0.0166 - val_acc: 0.9955\n",
      "Epoch 6/10\n",
      "16155/16155 [==============================] - 26s 2ms/step - loss: 0.0079 - acc: 0.9983 - val_loss: 0.0151 - val_acc: 0.9957\n",
      "Epoch 7/10\n",
      "16155/16155 [==============================] - 26s 2ms/step - loss: 0.0061 - acc: 0.9986 - val_loss: 0.0145 - val_acc: 0.9959\n",
      "Epoch 8/10\n",
      "16155/16155 [==============================] - 26s 2ms/step - loss: 0.0049 - acc: 0.9988 - val_loss: 0.0144 - val_acc: 0.9959\n",
      "Epoch 9/10\n",
      "16155/16155 [==============================] - 26s 2ms/step - loss: 0.0041 - acc: 0.9990 - val_loss: 0.0144 - val_acc: 0.9959\n",
      "Epoch 10/10\n",
      "16155/16155 [==============================] - 26s 2ms/step - loss: 0.0035 - acc: 0.9991 - val_loss: 0.0143 - val_acc: 0.9960\n"
     ]
    }
   ],
   "source": [
    "rnn_training = rnn_model.fit(X_train, Y_train, batch_size=128, epochs=10, validation_data=(X_validation, Y_validation))"
   ]
  },
  {
   "cell_type": "markdown",
   "metadata": {},
   "source": [
    "## Plot"
   ]
  },
  {
   "cell_type": "code",
   "execution_count": 34,
   "metadata": {
    "colab": {
     "base_uri": "https://localhost:8080/",
     "height": 295
    },
    "id": "f33uSZkqFYYT",
    "outputId": "17ff2529-c0f0-42af-db35-28a99a247c66"
   },
   "outputs": [
    {
     "data": {
      "image/png": "[encoded data removed]",
      "text/plain": [
       "<Figure size 432x288 with 1 Axes>"
      ]
     },
     "metadata": {
      "needs_background": "light"
     },
     "output_type": "display_data"
    }
   ],
   "source": [
    "# visualise training history\n",
    "plt.plot(rnn_training.history['acc'])\n",
    "plt.plot(rnn_training.history['val_acc'])\n",
    "plt.title('model accuracy')\n",
    "plt.ylabel('accuracy')\n",
    "plt.xlabel('epoch')\n",
    "plt.legend(['train', 'test'], loc=\"lower right\")\n",
    "plt.show()\n"
   ]
  },
  {
   "cell_type": "markdown",
   "metadata": {},
   "source": [
    "## Saving the Model"
   ]
  },
  {
   "cell_type": "code",
   "execution_count": 35,
   "metadata": {},
   "outputs": [],
   "source": [
    "rnn_model.save('ner-rnn.h5')"
   ]
  }
 ],
 "metadata": {
  "colab": {
   "collapsed_sections": [],
   "name": "RNN.ipynb",
   "provenance": []
  },
  "kernelspec": {
   "display_name": "Python 3",
   "language": "python",
   "name": "python3"
  },
  "language_info": {
   "codemirror_mode": {
    "name": "ipython",
    "version": 3
   },
   "file_extension": ".py",
   "mimetype": "text/x-python",
   "name": "python",
   "nbconvert_exporter": "python",
   "pygments_lexer": "ipython3",
   "version": "3.6.10"
  }
 },
 "nbformat": 4,
 "nbformat_minor": 1
}
